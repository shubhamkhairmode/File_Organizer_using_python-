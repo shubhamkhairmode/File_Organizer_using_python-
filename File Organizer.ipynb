{
 "cells": [
  {
   "cell_type": "markdown",
   "id": "13eafa7e",
   "metadata": {},
   "source": [
    "# Project process\n",
    "\n",
    "- get_file_extension\n",
    "- create_directory\n",
    "- organize_files"
   ]
  },
  {
   "cell_type": "code",
   "execution_count": 4,
   "id": "bf330c88",
   "metadata": {},
   "outputs": [
    {
     "name": "stdout",
     "output_type": "stream",
     "text": [
      "Enter Your source Directory file locationC:\\Users\\shiva\\Desktop\\File organizer\\dataset\n",
      "Moved succesfully '1690342619933-certificate (2).png' to 'C:\\Users\\shiva\\Desktop\\File organizer\\dataset\\png'\n",
      "Moved succesfully '1690553922143-certificate.png' to 'C:\\Users\\shiva\\Desktop\\File organizer\\dataset\\png'\n",
      "Moved succesfully '1690632299244.jpg' to 'C:\\Users\\shiva\\Desktop\\File organizer\\dataset\\jpg'\n",
      "Moved succesfully 'abc.txt' to 'C:\\Users\\shiva\\Desktop\\File organizer\\dataset\\txt'\n",
      "Moved succesfully 'Drishti Arora - AUUP Resume final.pdf' to 'C:\\Users\\shiva\\Desktop\\File organizer\\dataset\\pdf'\n",
      "Moved succesfully 'Machine Learning project Bootcamp (6).png' to 'C:\\Users\\shiva\\Desktop\\File organizer\\dataset\\png'\n",
      "Moved succesfully 'Raviteja Padala CV.pdf' to 'C:\\Users\\shiva\\Desktop\\File organizer\\dataset\\pdf'\n",
      "Moved succesfully 'SAVE_20230728_145819.jpg' to 'C:\\Users\\shiva\\Desktop\\File organizer\\dataset\\jpg'\n",
      "Moved succesfully 'Thumbnail (3).png' to 'C:\\Users\\shiva\\Desktop\\File organizer\\dataset\\png'\n",
      "Moved succesfully 'Thumbnail (4).png' to 'C:\\Users\\shiva\\Desktop\\File organizer\\dataset\\png'\n",
      "Our Complete File is Organized\n"
     ]
    }
   ],
   "source": [
    "import os, sys\n",
    "import shutil\n",
    "\n",
    "# abc.txt\n",
    "def get_file_extension(filename):\n",
    "    _, extension = os.path.splitext(filename)\n",
    "    return extension\n",
    "\n",
    "def create_directory(directory_path):\n",
    "    if not os.path.exists(directory_path):\n",
    "        os.makedirs(directory_path)\n",
    "\n",
    "def organize_file(source_directory):\n",
    "    \n",
    "    if not os.path.exists(source_directory):\n",
    "        \n",
    "        print(\"Our Scource Directory is not exists\")\n",
    "        return\n",
    "    \n",
    "    for filename in os.listdir(source_directory):\n",
    "        file_path = os.path.join(source_directory, filename)\n",
    "        \n",
    "        if os.path.isfile(file_path):\n",
    "            extension = get_file_extension(filename)\n",
    "            if extension:\n",
    "                destenation_direcotry = os.path.join(source_directory, extension[1:])\n",
    "                create_directory(destenation_direcotry)\n",
    "                \n",
    "                try:\n",
    "                    shutil.move(file_path, os.path.join(destenation_direcotry, filename))\n",
    "                    print(f\"Moved succesfully '{filename}' to '{destenation_direcotry}'\")\n",
    "                except Exception as e:\n",
    "                    \n",
    "                    print(f\"Moving Error '{filename}' to '{destenation_direcotry}': {e}\")\n",
    "                    \n",
    "            else:\n",
    "                print(f\"skipped '{filename}' as its doesen't have any types of extention.\")\n",
    "                \n",
    "        else:\n",
    "            print(f\"Skipped '{filename}' as is is not a file\")\n",
    "                  \n",
    "    print(\"Our Complete File is Organized\")\n",
    "    \n",
    "\n",
    "if __name__ == \"__main__\":\n",
    "                  \n",
    "    source_directory = input(\"Enter Your source Directory file location\")\n",
    "    organize_file(source_directory) \n",
    "\n",
    "        "
   ]
  },
  {
   "cell_type": "code",
   "execution_count": null,
   "id": "083c61f7",
   "metadata": {},
   "outputs": [],
   "source": []
  }
 ],
 "metadata": {
  "kernelspec": {
   "display_name": "Python 3",
   "language": "python",
   "name": "python3"
  },
  "language_info": {
   "codemirror_mode": {
    "name": "ipython",
    "version": 3
   },
   "file_extension": ".py",
   "mimetype": "text/x-python",
   "name": "python",
   "nbconvert_exporter": "python",
   "pygments_lexer": "ipython3",
   "version": "3.8.5"
  }
 },
 "nbformat": 4,
 "nbformat_minor": 5
}
